{
 "cells": [
  {
   "cell_type": "markdown",
   "id": "9b7cf81b",
   "metadata": {},
   "source": [
    "# Question 1\n",
    "\n",
    "Write a Python function to find the Max of three numbers.\n",
    "\n",
    "for example, the max of these three numbers 20, 35, 19 is 35"
   ]
  },
  {
   "cell_type": "code",
   "execution_count": 3,
   "id": "d6d295c0",
   "metadata": {},
   "outputs": [
    {
     "data": {
      "text/plain": [
       "35"
      ]
     },
     "execution_count": 3,
     "metadata": {},
     "output_type": "execute_result"
    }
   ],
   "source": [
    "def maximum(a,b,c):\n",
    "    if a>=b and a>=c:\n",
    "        return a\n",
    "    elif b>=a and b>=c:\n",
    "        return b\n",
    "    else:\n",
    "        return c\n",
    "    \n",
    "maximum(20,35,19)\n",
    "        "
   ]
  },
  {
   "cell_type": "markdown",
   "id": "236d3a19",
   "metadata": {},
   "source": [
    "# Question 2\n",
    "\n",
    "Write a function calculation() such that it can accept two variables and calculate the addition and subtraction of it. And also it must return both addition and subtraction in a single return call\n",
    "\n",
    "For example:\n",
    "\n",
    "calculation(40, 10) should produce 50, 30"
   ]
  },
  {
   "cell_type": "code",
   "execution_count": 4,
   "id": "707a9c13",
   "metadata": {},
   "outputs": [
    {
     "data": {
      "text/plain": [
       "(50, 30)"
      ]
     },
     "execution_count": 4,
     "metadata": {},
     "output_type": "execute_result"
    }
   ],
   "source": [
    "def calculation(x,y):\n",
    "    return x+y, x-y\n",
    "calculation(40, 10)"
   ]
  },
  {
   "cell_type": "markdown",
   "id": "bccbd416",
   "metadata": {},
   "source": [
    "# Question 3\n",
    "\n",
    "* Write a function that sums the elements of a list of integers.\n",
    "* Write a function that multiplies the elements of an integer list.\n",
    "* Use the two functions to sum the elements whose position is an even number (0,2,4…) an\n",
    "integer list.\n",
    "* Use the two functions to sum the elements whose position is an even number (0,2,4…) and multiply the rest.\n",
    "Hint: Consider extracting two lists from a first list "
   ]
  },
  {
   "cell_type": "code",
   "execution_count": 17,
   "id": "e0d126bb",
   "metadata": {},
   "outputs": [
    {
     "data": {
      "text/plain": [
       "45"
      ]
     },
     "execution_count": 17,
     "metadata": {},
     "output_type": "execute_result"
    }
   ],
   "source": [
    "l=[1,2,3,4,5,6,7,8,9]\n",
    "def somme(l):\n",
    "    s=0\n",
    "    for i in range(len(l)):\n",
    "        s=s+l[i]\n",
    "    return s\n",
    "somme(l)"
   ]
  },
  {
   "cell_type": "code",
   "execution_count": 18,
   "id": "19642156",
   "metadata": {},
   "outputs": [
    {
     "data": {
      "text/plain": [
       "362880"
      ]
     },
     "execution_count": 18,
     "metadata": {},
     "output_type": "execute_result"
    }
   ],
   "source": [
    "def multiply(l):\n",
    "    m=1\n",
    "    for i in range(len(l)):\n",
    "        m=m*l[i]\n",
    "    return m\n",
    "multiply(l)"
   ]
  },
  {
   "cell_type": "code",
   "execution_count": 35,
   "id": "7af4ca30",
   "metadata": {},
   "outputs": [
    {
     "data": {
      "text/plain": [
       "(25, 384)"
      ]
     },
     "execution_count": 35,
     "metadata": {},
     "output_type": "execute_result"
    }
   ],
   "source": [
    "def sum_multi(l):\n",
    "    list_pair=[]\n",
    "    list_impair=[]\n",
    "    for i in range(len(l)):\n",
    "        if i%2==0:\n",
    "            list_pair.append(l[i])\n",
    "        else:\n",
    "            list_impair.append(l[i])\n",
    "    return somme(list_pair), multiply(list_impair)\n",
    "\n",
    "sum_multi(l)\n",
    "        "
   ]
  },
  {
   "cell_type": "markdown",
   "id": "13758dce",
   "metadata": {},
   "source": [
    "# Question 4\n",
    "\n",
    "Write a Python program that accepts a hyphen-separated sequence of words as input and prints the words in a hyphen-separated sequence after sorting them alphabetically.\n",
    "\n",
    "Sample Items : green-red-yellow-black-white\n",
    "Expected Result : black-green-red-white-yellow\n",
    "\n",
    "Hint : There's a split function to separate your input string into words and a sort function to sort."
   ]
  },
  {
   "cell_type": "code",
   "execution_count": 38,
   "id": "01e544f7",
   "metadata": {},
   "outputs": [
    {
     "data": {
      "text/plain": [
       "'black-green-red-white-yellow'"
      ]
     },
     "execution_count": 38,
     "metadata": {},
     "output_type": "execute_result"
    }
   ],
   "source": [
    "def my_func(ch):\n",
    "    l=ch.split(\"-\")\n",
    "    l.sort()\n",
    "    return \"-\".join(l)\n",
    "my_func(\"green-red-yellow-black-white\")"
   ]
  },
  {
   "cell_type": "markdown",
   "id": "0bd6c34e",
   "metadata": {},
   "source": [
    "# Question 5 (Bonus)\n",
    "\n",
    "Write a function that calculates and prints the value according to the given formula: Q = Square root o\n",
    "of [(2 * C * D)/H] \n",
    "Following are the fixed values of C and H: C is 50. H is 30. \n",
    "D is the variable whose values should be input to your program in a comma-separated sequence. \n",
    "Example Let us assume the following comma separated input sequence is given to the function: 100,150,180 The output of the program should be: 18,22,24 \n",
    "\n",
    "Hints: If the output received is in decimal form, it should be rounded off to its nearest value (for example, if the output received is 26.0, it should be printed as 26) In "
   ]
  },
  {
   "cell_type": "code",
   "execution_count": 53,
   "id": "93e0647e",
   "metadata": {},
   "outputs": [
    {
     "name": "stdout",
     "output_type": "stream",
     "text": [
      "entrez la valeur D: 100,150,180\n"
     ]
    },
    {
     "data": {
      "text/plain": [
       "[18, 22, 24]"
      ]
     },
     "execution_count": 53,
     "metadata": {},
     "output_type": "execute_result"
    }
   ],
   "source": [
    "import math\n",
    "\n",
    "def my_func(t):\n",
    "    res=[]\n",
    "    for i in range(len(t)):\n",
    "        Q= round(math.sqrt((2*50*int(t[i]))/30))\n",
    "        res.append(Q)\n",
    "    return res\n",
    "\n",
    "n=input(\"entrez la valeur D: \")\n",
    "n=n.split(\",\")\n",
    "my_func(n)\n"
   ]
  }
 ],
 "metadata": {
  "kernelspec": {
   "display_name": "Python 3 (ipykernel)",
   "language": "python",
   "name": "python3"
  },
  "language_info": {
   "codemirror_mode": {
    "name": "ipython",
    "version": 3
   },
   "file_extension": ".py",
   "mimetype": "text/x-python",
   "name": "python",
   "nbconvert_exporter": "python",
   "pygments_lexer": "ipython3",
   "version": "3.9.7"
  }
 },
 "nbformat": 4,
 "nbformat_minor": 5
}
